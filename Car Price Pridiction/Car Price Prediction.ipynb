{
 "cells": [
  {
   "cell_type": "code",
   "execution_count": 1,
   "metadata": {},
   "outputs": [],
   "source": [
    "import pandas as pd\n",
    "import numpy as np\n",
    "import seaborn as sns\n",
    "\n",
    "sns.set(rc={'figure.figsize':(11.7,8.27)})"
   ]
  },
  {
   "cell_type": "code",
   "execution_count": 2,
   "metadata": {},
   "outputs": [
    {
     "name": "stdout",
     "output_type": "stream",
     "text": [
      "<class 'pandas.core.frame.DataFrame'>\n",
      "RangeIndex: 50001 entries, 0 to 50000\n",
      "Data columns (total 19 columns):\n",
      "dateCrawled            50001 non-null object\n",
      "name                   50001 non-null object\n",
      "seller                 50001 non-null object\n",
      "offerType              50001 non-null object\n",
      "price                  50001 non-null int64\n",
      "abtest                 50001 non-null object\n",
      "vehicleType            44813 non-null object\n",
      "yearOfRegistration     50001 non-null int64\n",
      "gearbox                47177 non-null object\n",
      "powerPS                50001 non-null int64\n",
      "model                  47243 non-null object\n",
      "kilometer              50001 non-null int64\n",
      "monthOfRegistration    50001 non-null int64\n",
      "fuelType               45498 non-null object\n",
      "brand                  50001 non-null object\n",
      "notRepairedDamage      40285 non-null object\n",
      "dateCreated            50001 non-null object\n",
      "postalCode             50001 non-null int64\n",
      "lastSeen               50001 non-null object\n",
      "dtypes: int64(6), object(13)\n",
      "memory usage: 7.2+ MB\n"
     ]
    }
   ],
   "source": [
    "cars_data = pd.read_csv('cars_sampled.csv')\n",
    "cars = cars_data.copy()\n",
    "cars.info()"
   ]
  },
  {
   "cell_type": "code",
   "execution_count": 3,
   "metadata": {
    "scrolled": true
   },
   "outputs": [
    {
     "data": {
      "text/html": [
       "<div>\n",
       "<style scoped>\n",
       "    .dataframe tbody tr th:only-of-type {\n",
       "        vertical-align: middle;\n",
       "    }\n",
       "\n",
       "    .dataframe tbody tr th {\n",
       "        vertical-align: top;\n",
       "    }\n",
       "\n",
       "    .dataframe thead th {\n",
       "        text-align: right;\n",
       "    }\n",
       "</style>\n",
       "<table border=\"1\" class=\"dataframe\">\n",
       "  <thead>\n",
       "    <tr style=\"text-align: right;\">\n",
       "      <th></th>\n",
       "      <th>price</th>\n",
       "      <th>yearOfRegistration</th>\n",
       "      <th>powerPS</th>\n",
       "      <th>kilometer</th>\n",
       "      <th>monthOfRegistration</th>\n",
       "      <th>postalCode</th>\n",
       "    </tr>\n",
       "  </thead>\n",
       "  <tbody>\n",
       "    <tr>\n",
       "      <th>count</th>\n",
       "      <td>50001.000</td>\n",
       "      <td>50001.000</td>\n",
       "      <td>50001.000</td>\n",
       "      <td>50001.000</td>\n",
       "      <td>50001.000</td>\n",
       "      <td>50001.000</td>\n",
       "    </tr>\n",
       "    <tr>\n",
       "      <th>mean</th>\n",
       "      <td>6559.865</td>\n",
       "      <td>2005.544</td>\n",
       "      <td>116.496</td>\n",
       "      <td>125613.688</td>\n",
       "      <td>5.744</td>\n",
       "      <td>50775.217</td>\n",
       "    </tr>\n",
       "    <tr>\n",
       "      <th>std</th>\n",
       "      <td>85818.470</td>\n",
       "      <td>122.992</td>\n",
       "      <td>230.568</td>\n",
       "      <td>40205.234</td>\n",
       "      <td>3.711</td>\n",
       "      <td>25743.702</td>\n",
       "    </tr>\n",
       "    <tr>\n",
       "      <th>min</th>\n",
       "      <td>0.000</td>\n",
       "      <td>1000.000</td>\n",
       "      <td>0.000</td>\n",
       "      <td>5000.000</td>\n",
       "      <td>0.000</td>\n",
       "      <td>1067.000</td>\n",
       "    </tr>\n",
       "    <tr>\n",
       "      <th>25%</th>\n",
       "      <td>1150.000</td>\n",
       "      <td>1999.000</td>\n",
       "      <td>69.000</td>\n",
       "      <td>125000.000</td>\n",
       "      <td>3.000</td>\n",
       "      <td>30559.000</td>\n",
       "    </tr>\n",
       "    <tr>\n",
       "      <th>50%</th>\n",
       "      <td>2950.000</td>\n",
       "      <td>2003.000</td>\n",
       "      <td>105.000</td>\n",
       "      <td>150000.000</td>\n",
       "      <td>6.000</td>\n",
       "      <td>49504.000</td>\n",
       "    </tr>\n",
       "    <tr>\n",
       "      <th>75%</th>\n",
       "      <td>7190.000</td>\n",
       "      <td>2008.000</td>\n",
       "      <td>150.000</td>\n",
       "      <td>150000.000</td>\n",
       "      <td>9.000</td>\n",
       "      <td>71404.000</td>\n",
       "    </tr>\n",
       "    <tr>\n",
       "      <th>max</th>\n",
       "      <td>12345678.000</td>\n",
       "      <td>9999.000</td>\n",
       "      <td>19312.000</td>\n",
       "      <td>150000.000</td>\n",
       "      <td>12.000</td>\n",
       "      <td>99998.000</td>\n",
       "    </tr>\n",
       "  </tbody>\n",
       "</table>\n",
       "</div>"
      ],
      "text/plain": [
       "             price  yearOfRegistration   powerPS  kilometer  \\\n",
       "count    50001.000           50001.000 50001.000  50001.000   \n",
       "mean      6559.865            2005.544   116.496 125613.688   \n",
       "std      85818.470             122.992   230.568  40205.234   \n",
       "min          0.000            1000.000     0.000   5000.000   \n",
       "25%       1150.000            1999.000    69.000 125000.000   \n",
       "50%       2950.000            2003.000   105.000 150000.000   \n",
       "75%       7190.000            2008.000   150.000 150000.000   \n",
       "max   12345678.000            9999.000 19312.000 150000.000   \n",
       "\n",
       "       monthOfRegistration  postalCode  \n",
       "count            50001.000   50001.000  \n",
       "mean                 5.744   50775.217  \n",
       "std                  3.711   25743.702  \n",
       "min                  0.000    1067.000  \n",
       "25%                  3.000   30559.000  \n",
       "50%                  6.000   49504.000  \n",
       "75%                  9.000   71404.000  \n",
       "max                 12.000   99998.000  "
      ]
     },
     "execution_count": 3,
     "metadata": {},
     "output_type": "execute_result"
    }
   ],
   "source": [
    "cars.describe()\n",
    "pd.set_option('display.float_format', lambda x: '%.3f' %x)\n",
    "pd.set_option('display.max_columns', 500)\n",
    "cars.describe()"
   ]
  },
  {
   "cell_type": "code",
   "execution_count": 4,
   "metadata": {},
   "outputs": [],
   "source": [
    "col = ['name', 'dateCrawled', 'dateCreated', 'postalCode', 'lastSeen']\n",
    "cars = cars.drop(columns=col, axis=1)"
   ]
  },
  {
   "cell_type": "code",
   "execution_count": 5,
   "metadata": {},
   "outputs": [],
   "source": [
    "cars.drop_duplicates(keep='first', inplace=True)"
   ]
  },
  {
   "cell_type": "code",
   "execution_count": 6,
   "metadata": {},
   "outputs": [
    {
     "data": {
      "text/plain": [
       "seller                    0\n",
       "offerType                 0\n",
       "price                     0\n",
       "abtest                    0\n",
       "vehicleType            5152\n",
       "yearOfRegistration        0\n",
       "gearbox                2765\n",
       "powerPS                   0\n",
       "model                  2730\n",
       "kilometer                 0\n",
       "monthOfRegistration       0\n",
       "fuelType               4467\n",
       "brand                     0\n",
       "notRepairedDamage      9640\n",
       "dtype: int64"
      ]
     },
     "execution_count": 6,
     "metadata": {},
     "output_type": "execute_result"
    }
   ],
   "source": [
    "cars.isnull().sum()"
   ]
  },
  {
   "cell_type": "code",
   "execution_count": 7,
   "metadata": {},
   "outputs": [
    {
     "data": {
      "text/plain": [
       "<matplotlib.axes._subplots.AxesSubplot at 0x26d4c346fd0>"
      ]
     },
     "execution_count": 7,
     "metadata": {},
     "output_type": "execute_result"
    },
    {
     "data": {
      "image/png": "[encoded data removed]",
      "text/plain": [
       "<Figure size 432x288 with 1 Axes>"
      ]
     },
     "metadata": {
      "needs_background": "light"
     },
     "output_type": "display_data"
    }
   ],
   "source": [
    "yearwise_count = cars['yearOfRegistration'].value_counts().sort_index()\n",
    "sum(cars['yearOfRegistration'] > 2018)\n",
    "sum(cars['yearOfRegistration'] < 1950)\n",
    "sns.regplot(x='yearOfRegistration', y='price', scatter=True, fit_reg=False, data=cars)"
   ]
  },
  {
   "cell_type": "code",
   "execution_count": 8,
   "metadata": {},
   "outputs": [
    {
     "name": "stderr",
     "output_type": "stream",
     "text": [
      "C:\\ProgramData\\Anaconda3\\lib\\site-packages\\scipy\\stats\\stats.py:1713: FutureWarning: Using a non-tuple sequence for multidimensional indexing is deprecated; use `arr[tuple(seq)]` instead of `arr[seq]`. In the future this will be interpreted as an array index, `arr[np.array(seq)]`, which will result either in an error or a different result.\n",
      "  return np.add.reduce(sorted[indexer] * weights, axis=axis) / sumval\n"
     ]
    },
    {
     "data": {
      "text/plain": [
       "1748"
      ]
     },
     "execution_count": 8,
     "metadata": {},
     "output_type": "execute_result"
    },
    {
     "data": {
      "image/png": "[encoded data removed]",
      "text/plain": [
       "<Figure size 432x288 with 1 Axes>"
      ]
     },
     "metadata": {
      "needs_background": "light"
     },
     "output_type": "display_data"
    }
   ],
   "source": [
    "price_count=cars['price'].value_counts().sort_index()\n",
    "sns.distplot(cars['price'])\n",
    "cars['price'].describe()\n",
    "sns.boxplot(y=cars['price'])\n",
    "sum(cars['price'] > 150000)\n",
    "sum(cars['price'] < 100)"
   ]
  },
  {
   "cell_type": "code",
   "execution_count": 9,
   "metadata": {},
   "outputs": [
    {
     "data": {
      "text/plain": [
       "5565"
      ]
     },
     "execution_count": 9,
     "metadata": {},
     "output_type": "execute_result"
    },
    {
     "data": {
      "image/png": "[encoded data removed]",
      "text/plain": [
       "<Figure size 432x288 with 1 Axes>"
      ]
     },
     "metadata": {
      "needs_background": "light"
     },
     "output_type": "display_data"
    }
   ],
   "source": [
    "power_count = cars['powerPS'].value_counts().sort_index()\n",
    "#sns.distplot(cars['powerPS'])\n",
    "cars['powerPS'].describe()\n",
    "#sns.boxplot(y=cars['powerPS'])\n",
    "sns.regplot(x='powerPS', y='price', scatter=True, fit_reg=False, data=cars)\n",
    "sum(cars['powerPS'] > 500)\n",
    "sum(cars['powerPS'] < 10)"
   ]
  },
  {
   "cell_type": "code",
   "execution_count": 10,
   "metadata": {},
   "outputs": [],
   "source": [
    "cars = cars[\n",
    "    (cars.yearOfRegistration <= 2018)\n",
    "    & (cars.yearOfRegistration >= 1950)\n",
    "    & (cars.price >= 100)\n",
    "    & (cars.price <= 150000)\n",
    "    & (cars.powerPS >= 10)\n",
    "    & (cars.powerPS <= 500)\n",
    "]"
   ]
  },
  {
   "cell_type": "code",
   "execution_count": 11,
   "metadata": {},
   "outputs": [],
   "source": [
    "cars['monthOfRegistration']/=12"
   ]
  },
  {
   "cell_type": "code",
   "execution_count": 12,
   "metadata": {},
   "outputs": [
    {
     "data": {
      "text/plain": [
       "count   42772.000\n",
       "mean       14.873\n",
       "std         7.093\n",
       "min         0.000\n",
       "25%        10.330\n",
       "50%        14.830\n",
       "75%        19.170\n",
       "max        67.750\n",
       "Name: Age, dtype: float64"
      ]
     },
     "execution_count": 12,
     "metadata": {},
     "output_type": "execute_result"
    }
   ],
   "source": [
    "cars['Age']=(2018-cars['yearOfRegistration']) + cars['monthOfRegistration']\n",
    "cars['Age']=round(cars['Age'], 2)\n",
    "cars['Age'].describe()"
   ]
  },
  {
   "cell_type": "code",
   "execution_count": 13,
   "metadata": {},
   "outputs": [
    {
     "data": {
      "text/plain": [
       "Index(['seller', 'offerType', 'price', 'abtest', 'vehicleType', 'gearbox',\n",
       "       'powerPS', 'model', 'kilometer', 'fuelType', 'brand',\n",
       "       'notRepairedDamage', 'Age'],\n",
       "      dtype='object')"
      ]
     },
     "execution_count": 13,
     "metadata": {},
     "output_type": "execute_result"
    }
   ],
   "source": [
    "cars=cars.drop(columns=['yearOfRegistration', 'monthOfRegistration'], axis=1)\n",
    "cars.columns"
   ]
  },
  {
   "cell_type": "code",
   "execution_count": 14,
   "metadata": {},
   "outputs": [
    {
     "data": {
      "text/plain": [
       "<matplotlib.axes._subplots.AxesSubplot at 0x26d469603c8>"
      ]
     },
     "execution_count": 14,
     "metadata": {},
     "output_type": "execute_result"
    },
    {
     "data": {
      "image/png": "[encoded data removed]",
      "text/plain": [
       "<Figure size 432x288 with 1 Axes>"
      ]
     },
     "metadata": {
      "needs_background": "light"
     },
     "output_type": "display_data"
    }
   ],
   "source": [
    "sns.distplot(cars['Age'])\n",
    "sns.boxplot(y=cars['Age'])"
   ]
  },
  {
   "cell_type": "code",
   "execution_count": 15,
   "metadata": {},
   "outputs": [
    {
     "data": {
      "text/plain": [
       "<matplotlib.axes._subplots.AxesSubplot at 0x26d4c8d3a58>"
      ]
     },
     "execution_count": 15,
     "metadata": {},
     "output_type": "execute_result"
    },
    {
     "data": {
      "image/png": "[encoded data removed]",
      "text/plain": [
       "<Figure size 432x288 with 1 Axes>"
      ]
     },
     "metadata": {
      "needs_background": "light"
     },
     "output_type": "display_data"
    }
   ],
   "source": [
    "sns.distplot(cars['price'])\n",
    "sns.boxplot(y=cars['price'])"
   ]
  },
  {
   "cell_type": "code",
   "execution_count": 16,
   "metadata": {},
   "outputs": [
    {
     "data": {
      "text/plain": [
       "<matplotlib.axes._subplots.AxesSubplot at 0x26d4baafb00>"
      ]
     },
     "execution_count": 16,
     "metadata": {},
     "output_type": "execute_result"
    },
    {
     "data": {
      "image/png": "[encoded data removed]",
      "text/plain": [
       "<Figure size 432x288 with 1 Axes>"
      ]
     },
     "metadata": {
      "needs_background": "light"
     },
     "output_type": "display_data"
    }
   ],
   "source": [
    "sns.distplot(cars['powerPS'])\n",
    "sns.boxplot(y=cars['powerPS'])"
   ]
  },
  {
   "cell_type": "code",
   "execution_count": 17,
   "metadata": {},
   "outputs": [
    {
     "data": {
      "text/plain": [
       "<matplotlib.axes._subplots.AxesSubplot at 0x26d4baf2898>"
      ]
     },
     "execution_count": 17,
     "metadata": {},
     "output_type": "execute_result"
    },
    {
     "data": {
      "image/png": "[encoded data removed]",
      "text/plain": [
       "<Figure size 432x288 with 1 Axes>"
      ]
     },
     "metadata": {
      "needs_background": "light"
     },
     "output_type": "display_data"
    }
   ],
   "source": [
    "sns.regplot(x='Age', y='price', scatter=True, fit_reg=False, data=cars)"
   ]
  },
  {
   "cell_type": "code",
   "execution_count": 18,
   "metadata": {},
   "outputs": [
    {
     "data": {
      "text/plain": [
       "<matplotlib.axes._subplots.AxesSubplot at 0x26d4bb1ce80>"
      ]
     },
     "execution_count": 18,
     "metadata": {},
     "output_type": "execute_result"
    },
    {
     "data": {
      "image/png": "[encoded data removed]",
      "text/plain": [
       "<Figure size 432x288 with 1 Axes>"
      ]
     },
     "metadata": {
      "needs_background": "light"
     },
     "output_type": "display_data"
    }
   ],
   "source": [
    "sns.regplot(x='powerPS', y='price', scatter=True, fit_reg=False, data=cars)"
   ]
  },
  {
   "cell_type": "code",
   "execution_count": 27,
   "metadata": {},
   "outputs": [
    {
     "data": {
      "text/plain": [
       "private       42771\n",
       "commercial        1\n",
       "Name: seller, dtype: int64"
      ]
     },
     "execution_count": 27,
     "metadata": {},
     "output_type": "execute_result"
    }
   ],
   "source": [
    "cars['seller'].value_counts()"
   ]
  },
  {
   "cell_type": "code",
   "execution_count": 28,
   "metadata": {},
   "outputs": [
    {
     "data": {
      "text/html": [
       "<div>\n",
       "<style scoped>\n",
       "    .dataframe tbody tr th:only-of-type {\n",
       "        vertical-align: middle;\n",
       "    }\n",
       "\n",
       "    .dataframe tbody tr th {\n",
       "        vertical-align: top;\n",
       "    }\n",
       "\n",
       "    .dataframe thead th {\n",
       "        text-align: right;\n",
       "    }\n",
       "</style>\n",
       "<table border=\"1\" class=\"dataframe\">\n",
       "  <thead>\n",
       "    <tr style=\"text-align: right;\">\n",
       "      <th>col_0</th>\n",
       "      <th>count</th>\n",
       "    </tr>\n",
       "    <tr>\n",
       "      <th>seller</th>\n",
       "      <th></th>\n",
       "    </tr>\n",
       "  </thead>\n",
       "  <tbody>\n",
       "    <tr>\n",
       "      <th>commercial</th>\n",
       "      <td>0.000</td>\n",
       "    </tr>\n",
       "    <tr>\n",
       "      <th>private</th>\n",
       "      <td>1.000</td>\n",
       "    </tr>\n",
       "  </tbody>\n",
       "</table>\n",
       "</div>"
      ],
      "text/plain": [
       "col_0       count\n",
       "seller           \n",
       "commercial  0.000\n",
       "private     1.000"
      ]
     },
     "execution_count": 28,
     "metadata": {},
     "output_type": "execute_result"
    }
   ],
   "source": [
    "pd.crosstab(cars['seller'], columns='count', normalize=True)"
   ]
  },
  {
   "cell_type": "code",
   "execution_count": 29,
   "metadata": {},
   "outputs": [
    {
     "data": {
      "text/plain": [
       "<matplotlib.axes._subplots.AxesSubplot at 0x26d4bfabc88>"
      ]
     },
     "execution_count": 29,
     "metadata": {},
     "output_type": "execute_result"
    },
    {
     "data": {
      "image/png": "[encoded data removed]",
      "text/plain": [
       "<Figure size 432x288 with 1 Axes>"
      ]
     },
     "metadata": {
      "needs_background": "light"
     },
     "output_type": "display_data"
    }
   ],
   "source": [
    "sns.countplot(x='seller', data=cars)"
   ]
  },
  {
   "cell_type": "code",
   "execution_count": 30,
   "metadata": {},
   "outputs": [
    {
     "data": {
      "text/plain": [
       "offer    42772\n",
       "Name: offerType, dtype: int64"
      ]
     },
     "execution_count": 30,
     "metadata": {},
     "output_type": "execute_result"
    }
   ],
   "source": [
    "cars['offerType'].value_counts()"
   ]
  },
  {
   "cell_type": "code",
   "execution_count": 31,
   "metadata": {},
   "outputs": [
    {
     "data": {
      "text/html": [
       "<div>\n",
       "<style scoped>\n",
       "    .dataframe tbody tr th:only-of-type {\n",
       "        vertical-align: middle;\n",
       "    }\n",
       "\n",
       "    .dataframe tbody tr th {\n",
       "        vertical-align: top;\n",
       "    }\n",
       "\n",
       "    .dataframe thead th {\n",
       "        text-align: right;\n",
       "    }\n",
       "</style>\n",
       "<table border=\"1\" class=\"dataframe\">\n",
       "  <thead>\n",
       "    <tr style=\"text-align: right;\">\n",
       "      <th>col_0</th>\n",
       "      <th>count</th>\n",
       "    </tr>\n",
       "    <tr>\n",
       "      <th>offerType</th>\n",
       "      <th></th>\n",
       "    </tr>\n",
       "  </thead>\n",
       "  <tbody>\n",
       "    <tr>\n",
       "      <th>offer</th>\n",
       "      <td>1</td>\n",
       "    </tr>\n",
       "  </tbody>\n",
       "</table>\n",
       "</div>"
      ],
      "text/plain": [
       "col_0      count\n",
       "offerType       \n",
       "offer          1"
      ]
     },
     "execution_count": 31,
     "metadata": {},
     "output_type": "execute_result"
    }
   ],
   "source": [
    "pd.crosstab(cars['offerType'], columns='count', normalize=True)"
   ]
  },
  {
   "cell_type": "code",
   "execution_count": 32,
   "metadata": {},
   "outputs": [
    {
     "data": {
      "text/plain": [
       "<matplotlib.axes._subplots.AxesSubplot at 0x26d4bfde940>"
      ]
     },
     "execution_count": 32,
     "metadata": {},
     "output_type": "execute_result"
    },
    {
     "data": {
      "image/png": "[encoded data removed]",
      "text/plain": [
       "<Figure size 432x288 with 1 Axes>"
      ]
     },
     "metadata": {
      "needs_background": "light"
     },
     "output_type": "display_data"
    }
   ],
   "source": [
    "sns.countplot(x='offerType', data=cars)"
   ]
  },
  {
   "cell_type": "code",
   "execution_count": 33,
   "metadata": {},
   "outputs": [
    {
     "data": {
      "text/plain": [
       "test       22128\n",
       "control    20644\n",
       "Name: abtest, dtype: int64"
      ]
     },
     "execution_count": 33,
     "metadata": {},
     "output_type": "execute_result"
    }
   ],
   "source": [
    "cars['abtest'].value_counts()"
   ]
  },
  {
   "cell_type": "code",
   "execution_count": 34,
   "metadata": {},
   "outputs": [
    {
     "data": {
      "text/html": [
       "<div>\n",
       "<style scoped>\n",
       "    .dataframe tbody tr th:only-of-type {\n",
       "        vertical-align: middle;\n",
       "    }\n",
       "\n",
       "    .dataframe tbody tr th {\n",
       "        vertical-align: top;\n",
       "    }\n",
       "\n",
       "    .dataframe thead th {\n",
       "        text-align: right;\n",
       "    }\n",
       "</style>\n",
       "<table border=\"1\" class=\"dataframe\">\n",
       "  <thead>\n",
       "    <tr style=\"text-align: right;\">\n",
       "      <th>col_0</th>\n",
       "      <th>count</th>\n",
       "    </tr>\n",
       "    <tr>\n",
       "      <th>abtest</th>\n",
       "      <th></th>\n",
       "    </tr>\n",
       "  </thead>\n",
       "  <tbody>\n",
       "    <tr>\n",
       "      <th>control</th>\n",
       "      <td>0.483</td>\n",
       "    </tr>\n",
       "    <tr>\n",
       "      <th>test</th>\n",
       "      <td>0.517</td>\n",
       "    </tr>\n",
       "  </tbody>\n",
       "</table>\n",
       "</div>"
      ],
      "text/plain": [
       "col_0    count\n",
       "abtest        \n",
       "control  0.483\n",
       "test     0.517"
      ]
     },
     "execution_count": 34,
     "metadata": {},
     "output_type": "execute_result"
    }
   ],
   "source": [
    "pd.crosstab(cars['abtest'], columns='count', normalize=True)"
   ]
  },
  {
   "cell_type": "code",
   "execution_count": 35,
   "metadata": {},
   "outputs": [
    {
     "data": {
      "text/plain": [
       "<matplotlib.axes._subplots.AxesSubplot at 0x26d4c026b00>"
      ]
     },
     "execution_count": 35,
     "metadata": {},
     "output_type": "execute_result"
    },
    {
     "data": {
      "image/png": "[encoded data removed]",
      "text/plain": [
       "<Figure size 432x288 with 1 Axes>"
      ]
     },
     "metadata": {
      "needs_background": "light"
     },
     "output_type": "display_data"
    }
   ],
   "source": [
    "sns.countplot(x='abtest', data=cars)"
   ]
  },
  {
   "cell_type": "code",
   "execution_count": 36,
   "metadata": {},
   "outputs": [
    {
     "data": {
      "text/plain": [
       "limousine        11746\n",
       "small car         9285\n",
       "station wagon     8076\n",
       "bus               3597\n",
       "cabrio            2792\n",
       "coupe             2261\n",
       "suv               1813\n",
       "others             326\n",
       "Name: vehicleType, dtype: int64"
      ]
     },
     "execution_count": 36,
     "metadata": {},
     "output_type": "execute_result"
    }
   ],
   "source": [
    "cars['vehicleType'].value_counts()"
   ]
  },
  {
   "cell_type": "code",
   "execution_count": 37,
   "metadata": {},
   "outputs": [
    {
     "data": {
      "text/html": [
       "<div>\n",
       "<style scoped>\n",
       "    .dataframe tbody tr th:only-of-type {\n",
       "        vertical-align: middle;\n",
       "    }\n",
       "\n",
       "    .dataframe tbody tr th {\n",
       "        vertical-align: top;\n",
       "    }\n",
       "\n",
       "    .dataframe thead th {\n",
       "        text-align: right;\n",
       "    }\n",
       "</style>\n",
       "<table border=\"1\" class=\"dataframe\">\n",
       "  <thead>\n",
       "    <tr style=\"text-align: right;\">\n",
       "      <th>col_0</th>\n",
       "      <th>count</th>\n",
       "    </tr>\n",
       "    <tr>\n",
       "      <th>vehicleType</th>\n",
       "      <th></th>\n",
       "    </tr>\n",
       "  </thead>\n",
       "  <tbody>\n",
       "    <tr>\n",
       "      <th>bus</th>\n",
       "      <td>0.090</td>\n",
       "    </tr>\n",
       "    <tr>\n",
       "      <th>cabrio</th>\n",
       "      <td>0.070</td>\n",
       "    </tr>\n",
       "    <tr>\n",
       "      <th>coupe</th>\n",
       "      <td>0.057</td>\n",
       "    </tr>\n",
       "    <tr>\n",
       "      <th>limousine</th>\n",
       "      <td>0.294</td>\n",
       "    </tr>\n",
       "    <tr>\n",
       "      <th>others</th>\n",
       "      <td>0.008</td>\n",
       "    </tr>\n",
       "    <tr>\n",
       "      <th>small car</th>\n",
       "      <td>0.233</td>\n",
       "    </tr>\n",
       "    <tr>\n",
       "      <th>station wagon</th>\n",
       "      <td>0.202</td>\n",
       "    </tr>\n",
       "    <tr>\n",
       "      <th>suv</th>\n",
       "      <td>0.045</td>\n",
       "    </tr>\n",
       "  </tbody>\n",
       "</table>\n",
       "</div>"
      ],
      "text/plain": [
       "col_0          count\n",
       "vehicleType         \n",
       "bus            0.090\n",
       "cabrio         0.070\n",
       "coupe          0.057\n",
       "limousine      0.294\n",
       "others         0.008\n",
       "small car      0.233\n",
       "station wagon  0.202\n",
       "suv            0.045"
      ]
     },
     "execution_count": 37,
     "metadata": {},
     "output_type": "execute_result"
    }
   ],
   "source": [
    "pd.crosstab(cars['vehicleType'], columns='count', normalize=True)"
   ]
  },
  {
   "cell_type": "code",
   "execution_count": 38,
   "metadata": {},
   "outputs": [
    {
     "data": {
      "image/png": "[encoded data removed]",
      "text/plain": [
       "<Figure size 432x288 with 1 Axes>"
      ]
     },
     "metadata": {
      "needs_background": "light"
     },
     "output_type": "display_data"
    }
   ],
   "source": [
    "sns.countplot(cars['vehicleType']);"
   ]
  },
  {
   "cell_type": "code",
   "execution_count": 39,
   "metadata": {},
   "outputs": [
    {
     "data": {
      "image/png": "[encoded data removed]",
      "text/plain": [
       "<Figure size 432x288 with 1 Axes>"
      ]
     },
     "metadata": {
      "needs_background": "light"
     },
     "output_type": "display_data"
    }
   ],
   "source": [
    "sns.boxplot(x='vehicleType', y='price', data=cars);"
   ]
  },
  {
   "cell_type": "code",
   "execution_count": 40,
   "metadata": {},
   "outputs": [
    {
     "data": {
      "text/plain": [
       "manual       32582\n",
       "automatic     9396\n",
       "Name: gearbox, dtype: int64"
      ]
     },
     "execution_count": 40,
     "metadata": {},
     "output_type": "execute_result"
    }
   ],
   "source": [
    "cars['gearbox'].value_counts()"
   ]
  },
  {
   "cell_type": "code",
   "execution_count": 41,
   "metadata": {},
   "outputs": [
    {
     "data": {
      "text/html": [
       "<div>\n",
       "<style scoped>\n",
       "    .dataframe tbody tr th:only-of-type {\n",
       "        vertical-align: middle;\n",
       "    }\n",
       "\n",
       "    .dataframe tbody tr th {\n",
       "        vertical-align: top;\n",
       "    }\n",
       "\n",
       "    .dataframe thead th {\n",
       "        text-align: right;\n",
       "    }\n",
       "</style>\n",
       "<table border=\"1\" class=\"dataframe\">\n",
       "  <thead>\n",
       "    <tr style=\"text-align: right;\">\n",
       "      <th>col_0</th>\n",
       "      <th>count</th>\n",
       "    </tr>\n",
       "    <tr>\n",
       "      <th>gearbox</th>\n",
       "      <th></th>\n",
       "    </tr>\n",
       "  </thead>\n",
       "  <tbody>\n",
       "    <tr>\n",
       "      <th>automatic</th>\n",
       "      <td>0.224</td>\n",
       "    </tr>\n",
       "    <tr>\n",
       "      <th>manual</th>\n",
       "      <td>0.776</td>\n",
       "    </tr>\n",
       "  </tbody>\n",
       "</table>\n",
       "</div>"
      ],
      "text/plain": [
       "col_0      count\n",
       "gearbox         \n",
       "automatic  0.224\n",
       "manual     0.776"
      ]
     },
     "execution_count": 41,
     "metadata": {},
     "output_type": "execute_result"
    }
   ],
   "source": [
    "pd.crosstab(cars['gearbox'], columns='count', normalize=True)"
   ]
  },
  {
   "cell_type": "code",
   "execution_count": 42,
   "metadata": {},
   "outputs": [
    {
     "data": {
      "text/plain": [
       "<matplotlib.axes._subplots.AxesSubplot at 0x26d4c9bf4a8>"
      ]
     },
     "execution_count": 42,
     "metadata": {},
     "output_type": "execute_result"
    },
    {
     "data": {
      "image/png": "[encoded data removed]",
      "text/plain": [
       "<Figure size 432x288 with 1 Axes>"
      ]
     },
     "metadata": {
      "needs_background": "light"
     },
     "output_type": "display_data"
    }
   ],
   "source": [
    "sns.countplot(cars['gearbox'])"
   ]
  },
  {
   "cell_type": "code",
   "execution_count": 43,
   "metadata": {},
   "outputs": [
    {
     "data": {
      "text/plain": [
       "<matplotlib.axes._subplots.AxesSubplot at 0x26d4c9ea5c0>"
      ]
     },
     "execution_count": 43,
     "metadata": {},
     "output_type": "execute_result"
    },
    {
     "data": {
      "image/png": "[encoded data removed]",
      "text/plain": [
       "<Figure size 432x288 with 1 Axes>"
      ]
     },
     "metadata": {
      "needs_background": "light"
     },
     "output_type": "display_data"
    }
   ],
   "source": [
    "sns.boxplot(x='gearbox', y='price', data=cars)"
   ]
  },
  {
   "cell_type": "code",
   "execution_count": 45,
   "metadata": {},
   "outputs": [
    {
     "data": {
      "text/plain": [
       "count     41089\n",
       "unique      247\n",
       "top        golf\n",
       "freq       3478\n",
       "Name: model, dtype: object"
      ]
     },
     "execution_count": 45,
     "metadata": {},
     "output_type": "execute_result"
    }
   ],
   "source": [
    "cars['model'].value_counts()\n",
    "cars['model'].describe()"
   ]
  },
  {
   "cell_type": "code",
   "execution_count": 47,
   "metadata": {},
   "outputs": [
    {
     "data": {
      "text/plain": [
       "<matplotlib.axes._subplots.AxesSubplot at 0x26d4ca6b2e8>"
      ]
     },
     "execution_count": 47,
     "metadata": {},
     "output_type": "execute_result"
    },
    {
     "data": {
      "image/png": "[encoded data removed]",
      "text/plain": [
       "<Figure size 432x288 with 1 Axes>"
      ]
     },
     "metadata": {
      "needs_background": "light"
     },
     "output_type": "display_data"
    }
   ],
   "source": [
    "cars['kilometer'].value_counts().sort_index()\n",
    "pd.crosstab(cars['kilometer'], columns='count', normalize=True)\n",
    "sns.countplot(cars['kilometer'])"
   ]
  },
  {
   "cell_type": "code",
   "execution_count": 38,
   "metadata": {},
   "outputs": [
    {
     "data": {
      "text/plain": [
       "<matplotlib.axes._subplots.AxesSubplot at 0x18c2afdabe0>"
      ]
     },
     "execution_count": 38,
     "metadata": {},
     "output_type": "execute_result"
    },
    {
     "data": {
      "image/png": "[encoded data removed]",
      "text/plain": [
       "<Figure size 432x288 with 1 Axes>"
      ]
     },
     "metadata": {
      "needs_background": "light"
     },
     "output_type": "display_data"
    }
   ],
   "source": [
    "cars['fuelType'].value_counts()\n",
    "pd.crosstab(cars['fuelType'], columns='count', normalize=True)\n",
    "sns.countplot(x='fuelType', data=cars)\n",
    "sns.boxplot(x='fuelType', y='price', data=cars)"
   ]
  },
  {
   "cell_type": "code",
   "execution_count": 48,
   "metadata": {},
   "outputs": [
    {
     "data": {
      "text/plain": [
       "<matplotlib.axes._subplots.AxesSubplot at 0x26d4c9fd7f0>"
      ]
     },
     "execution_count": 48,
     "metadata": {},
     "output_type": "execute_result"
    },
    {
     "data": {
      "image/png": "[encoded data removed]",
      "text/plain": [
       "<Figure size 432x288 with 1 Axes>"
      ]
     },
     "metadata": {
      "needs_background": "light"
     },
     "output_type": "display_data"
    }
   ],
   "source": [
    "sns.boxplot(x='kilometer', y='price', data=cars)"
   ]
  },
  {
   "cell_type": "code",
   "execution_count": 52,
   "metadata": {},
   "outputs": [
    {
     "data": {
      "text/plain": [
       "volkswagen        9134\n",
       "bmw               4868\n",
       "opel              4487\n",
       "mercedes_benz     4134\n",
       "audi              3984\n",
       "ford              2815\n",
       "renault           1941\n",
       "peugeot           1323\n",
       "fiat               996\n",
       "seat               886\n",
       "skoda              698\n",
       "mazda              663\n",
       "smart              623\n",
       "nissan             601\n",
       "citroen            598\n",
       "toyota             547\n",
       "volvo              429\n",
       "mini               428\n",
       "hyundai            406\n",
       "mitsubishi         359\n",
       "honda              300\n",
       "sonstige_autos     299\n",
       "kia                276\n",
       "suzuki             264\n",
       "porsche            260\n",
       "alfa_romeo         245\n",
       "chevrolet          213\n",
       "chrysler           151\n",
       "dacia              123\n",
       "subaru             112\n",
       "jeep                91\n",
       "land_rover          81\n",
       "jaguar              78\n",
       "daihatsu            67\n",
       "saab                65\n",
       "lancia              56\n",
       "daewoo              53\n",
       "rover               53\n",
       "trabant             43\n",
       "lada                22\n",
       "Name: brand, dtype: int64"
      ]
     },
     "execution_count": 52,
     "metadata": {},
     "output_type": "execute_result"
    }
   ],
   "source": [
    "cars['brand'].value_counts()\n",
    "#pd.crosstab(cars['brand'], columns='count', normalize=True)\n",
    "#sns.boxplot(x='brand', y='price', data=cars)"
   ]
  },
  {
   "cell_type": "code",
   "execution_count": 50,
   "metadata": {},
   "outputs": [
    {
     "data": {
      "text/plain": [
       "<matplotlib.axes._subplots.AxesSubplot at 0x18c2c3ebe80>"
      ]
     },
     "execution_count": 50,
     "metadata": {},
     "output_type": "execute_result"
    },
    {
     "data": {
      "image/png": "[encoded data removed]",
      "text/plain": [
       "<Figure size 432x288 with 1 Axes>"
      ]
     },
     "metadata": {
      "needs_background": "light"
     },
     "output_type": "display_data"
    }
   ],
   "source": [
    "cars['notRepairedDamage'].value_counts()\n",
    "pd.crosstab(cars['notRepairedDamage'], columns='count', normalize=True)\n",
    "#sns.countplot(x='notRepairedDamage', data=cars)\n",
    "sns.boxplot(x='notRepairedDamage', y='price', data=cars)"
   ]
  },
  {
   "cell_type": "code",
   "execution_count": 53,
   "metadata": {},
   "outputs": [],
   "source": [
    "col = ['seller','offerType','abtest']\n",
    "carss = cars\n",
    "cars = cars.drop(columns=col, axis=1)\n",
    "cars_copy = cars.copy()"
   ]
  },
  {
   "cell_type": "code",
   "execution_count": 54,
   "metadata": {},
   "outputs": [
    {
     "data": {
      "text/html": [
       "<div>\n",
       "<style scoped>\n",
       "    .dataframe tbody tr th:only-of-type {\n",
       "        vertical-align: middle;\n",
       "    }\n",
       "\n",
       "    .dataframe tbody tr th {\n",
       "        vertical-align: top;\n",
       "    }\n",
       "\n",
       "    .dataframe thead th {\n",
       "        text-align: right;\n",
       "    }\n",
       "</style>\n",
       "<table border=\"1\" class=\"dataframe\">\n",
       "  <thead>\n",
       "    <tr style=\"text-align: right;\">\n",
       "      <th></th>\n",
       "      <th>price</th>\n",
       "      <th>powerPS</th>\n",
       "      <th>kilometer</th>\n",
       "      <th>Age</th>\n",
       "    </tr>\n",
       "  </thead>\n",
       "  <tbody>\n",
       "    <tr>\n",
       "      <th>price</th>\n",
       "      <td>1.000</td>\n",
       "      <td>0.575</td>\n",
       "      <td>-0.440</td>\n",
       "      <td>-0.336</td>\n",
       "    </tr>\n",
       "    <tr>\n",
       "      <th>powerPS</th>\n",
       "      <td>0.575</td>\n",
       "      <td>1.000</td>\n",
       "      <td>-0.016</td>\n",
       "      <td>-0.151</td>\n",
       "    </tr>\n",
       "    <tr>\n",
       "      <th>kilometer</th>\n",
       "      <td>-0.440</td>\n",
       "      <td>-0.016</td>\n",
       "      <td>1.000</td>\n",
       "      <td>0.292</td>\n",
       "    </tr>\n",
       "    <tr>\n",
       "      <th>Age</th>\n",
       "      <td>-0.336</td>\n",
       "      <td>-0.151</td>\n",
       "      <td>0.292</td>\n",
       "      <td>1.000</td>\n",
       "    </tr>\n",
       "  </tbody>\n",
       "</table>\n",
       "</div>"
      ],
      "text/plain": [
       "           price  powerPS  kilometer    Age\n",
       "price      1.000    0.575     -0.440 -0.336\n",
       "powerPS    0.575    1.000     -0.016 -0.151\n",
       "kilometer -0.440   -0.016      1.000  0.292\n",
       "Age       -0.336   -0.151      0.292  1.000"
      ]
     },
     "execution_count": 54,
     "metadata": {},
     "output_type": "execute_result"
    }
   ],
   "source": [
    "cars_select1 = cars.select_dtypes(exclude=[object])\n",
    "correlation = cars_select1.corr()\n",
    "correlation"
   ]
  },
  {
   "cell_type": "code",
   "execution_count": 55,
   "metadata": {},
   "outputs": [
    {
     "data": {
      "text/plain": [
       "powerPS     0.575\n",
       "kilometer   0.440\n",
       "Age         0.336\n",
       "Name: price, dtype: float64"
      ]
     },
     "execution_count": 55,
     "metadata": {},
     "output_type": "execute_result"
    }
   ],
   "source": [
    "round(correlation, 3)\n",
    "cars_select1.corr().loc[:,'price'].abs().sort_values(ascending=False)[1:]"
   ]
  },
  {
   "cell_type": "code",
   "execution_count": 56,
   "metadata": {},
   "outputs": [
    {
     "data": {
      "text/plain": [
       "(32884, 301)"
      ]
     },
     "execution_count": 56,
     "metadata": {},
     "output_type": "execute_result"
    }
   ],
   "source": [
    "cars_omit = cars.dropna(axis=0)\n",
    "cars_omit.shape\n",
    "car_omit = pd.get_dummies(cars_omit, drop_first=True)\n",
    "car_omit.shape"
   ]
  },
  {
   "cell_type": "code",
   "execution_count": 61,
   "metadata": {},
   "outputs": [],
   "source": [
    "from sklearn.model_selection import train_test_split\n",
    "from sklearn.linear_model import LinearRegression\n",
    "from sklearn.ensemble import RandomForestRegressor\n",
    "from sklearn.metrics import mean_squared_error"
   ]
  },
  {
   "cell_type": "code",
   "execution_count": 62,
   "metadata": {},
   "outputs": [],
   "source": [
    "x1 = car_omit.drop(['price'], axis='columns', inplace=False)\n",
    "y1 = car_omit['price']"
   ]
  },
  {
   "cell_type": "code",
   "execution_count": 63,
   "metadata": {},
   "outputs": [
    {
     "data": {
      "text/plain": [
       "array([[<matplotlib.axes._subplots.AxesSubplot object at 0x0000026D500BA5F8>,\n",
       "        <matplotlib.axes._subplots.AxesSubplot object at 0x0000026D501C8D30>]],\n",
       "      dtype=object)"
      ]
     },
     "execution_count": 63,
     "metadata": {},
     "output_type": "execute_result"
    },
    {
     "data": {
      "image/png": "[encoded data removed]",
      "text/plain": [
       "<Figure size 432x288 with 2 Axes>"
      ]
     },
     "metadata": {
      "needs_background": "light"
     },
     "output_type": "display_data"
    }
   ],
   "source": [
    "prices = pd.DataFrame({\"1. Before\":y1, \"2. After\":np.log(y1)})\n",
    "prices.hist()"
   ]
  },
  {
   "cell_type": "code",
   "execution_count": 64,
   "metadata": {},
   "outputs": [
    {
     "name": "stdout",
     "output_type": "stream",
     "text": [
      "(23018, 300) (9866, 300) (23018,) (9866,)\n"
     ]
    }
   ],
   "source": [
    "y1 = np.log(y1)\n",
    "X_train, X_test, y_train, y_test = train_test_split(x1, y1, test_size=0.3, random_state=3)\n",
    "print(X_train.shape, X_test.shape, y_train.shape, y_test.shape)"
   ]
  },
  {
   "cell_type": "code",
   "execution_count": 65,
   "metadata": {},
   "outputs": [
    {
     "name": "stdout",
     "output_type": "stream",
     "text": [
      "8.249615787653337\n"
     ]
    }
   ],
   "source": [
    "base_pred = np.mean(y_test)\n",
    "print(base_pred)"
   ]
  },
  {
   "cell_type": "code",
   "execution_count": 66,
   "metadata": {},
   "outputs": [
    {
     "data": {
      "text/plain": [
       "1.1274483657478247"
      ]
     },
     "execution_count": 66,
     "metadata": {},
     "output_type": "execute_result"
    }
   ],
   "source": [
    "base_pred = np.repeat(base_pred, len(y_test))\n",
    "base_root_mean_square_error = np.sqrt(mean_squared_error(y_test, base_pred))\n",
    "base_root_mean_square_error"
   ]
  },
  {
   "cell_type": "code",
   "execution_count": 67,
   "metadata": {},
   "outputs": [
    {
     "data": {
      "text/plain": [
       "0.5455481266513853"
      ]
     },
     "execution_count": 67,
     "metadata": {},
     "output_type": "execute_result"
    }
   ],
   "source": [
    "lgr = LinearRegression(fit_intercept=True)\n",
    "model_lin1 = lgr.fit(X_train, y_train)\n",
    "cars_prediction_lin1 = lgr.predict(X_test)\n",
    "\n",
    "#computing MSE and RMSE\n",
    "lin_mse1 = mean_squared_error(y_test, cars_prediction_lin1)\n",
    "lin_mrse1 = np.sqrt(lin_mse1)\n",
    "lin_mrse1"
   ]
  },
  {
   "cell_type": "code",
   "execution_count": 68,
   "metadata": {},
   "outputs": [
    {
     "name": "stdout",
     "output_type": "stream",
     "text": [
      "0.7658615091649235 0.7800936978183916\n"
     ]
    }
   ],
   "source": [
    "#R squared value\n",
    "r2_lin_test1 = model_lin1.score(X_test, y_test)\n",
    "r2_lin_train1 = model_lin1.score(X_train, y_train)\n",
    "print(r2_lin_test1, r2_lin_train1)"
   ]
  },
  {
   "cell_type": "code",
   "execution_count": 69,
   "metadata": {},
   "outputs": [
    {
     "data": {
      "text/plain": [
       "<matplotlib.axes._subplots.AxesSubplot at 0x26d4fe43e48>"
      ]
     },
     "execution_count": 69,
     "metadata": {},
     "output_type": "execute_result"
    },
    {
     "data": {
      "image/png": "[encoded data removed]",
      "text/plain": [
       "<Figure size 432x288 with 1 Axes>"
      ]
     },
     "metadata": {
      "needs_background": "light"
     },
     "output_type": "display_data"
    }
   ],
   "source": [
    "residuals1 = y_test - cars_prediction_lin1\n",
    "sns.regplot(x=cars_prediction_lin1, y=residuals1, scatter=True, fit_reg=False)"
   ]
  },
  {
   "cell_type": "code",
   "execution_count": 70,
   "metadata": {},
   "outputs": [
    {
     "data": {
      "text/plain": [
       "count   9866.000\n",
       "mean       0.003\n",
       "std        0.546\n",
       "min       -5.796\n",
       "25%       -0.261\n",
       "50%        0.041\n",
       "75%        0.302\n",
       "max        4.547\n",
       "Name: price, dtype: float64"
      ]
     },
     "execution_count": 70,
     "metadata": {},
     "output_type": "execute_result"
    }
   ],
   "source": [
    "residuals1.describe()"
   ]
  },
  {
   "cell_type": "code",
   "execution_count": 71,
   "metadata": {},
   "outputs": [
    {
     "data": {
      "text/plain": [
       "price                0\n",
       "vehicleType          0\n",
       "gearbox              0\n",
       "powerPS              0\n",
       "model                0\n",
       "kilometer            0\n",
       "fuelType             0\n",
       "brand                0\n",
       "notRepairedDamage    0\n",
       "Age                  0\n",
       "dtype: int64"
      ]
     },
     "execution_count": 71,
     "metadata": {},
     "output_type": "execute_result"
    }
   ],
   "source": [
    "#MODEL with imputed data\n",
    "cars_imputed = cars.apply(lambda x:x.fillna(x.median())\n",
    "                         if x.dtype == 'float' else\n",
    "                         x.fillna(x.value_counts().index[0]))\n",
    "cars_imputed.isnull().sum()"
   ]
  },
  {
   "cell_type": "code",
   "execution_count": 72,
   "metadata": {},
   "outputs": [
    {
     "data": {
      "text/plain": [
       "array([[<matplotlib.axes._subplots.AxesSubplot object at 0x0000026D50687E10>,\n",
       "        <matplotlib.axes._subplots.AxesSubplot object at 0x0000026D50A84A90>]],\n",
       "      dtype=object)"
      ]
     },
     "execution_count": 72,
     "metadata": {},
     "output_type": "execute_result"
    },
    {
     "data": {
      "image/png": "[encoded data removed]",
      "text/plain": [
       "<Figure size 432x288 with 2 Axes>"
      ]
     },
     "metadata": {
      "needs_background": "light"
     },
     "output_type": "display_data"
    }
   ],
   "source": [
    "cars_imputed = pd.get_dummies(cars_imputed, drop_first=True)\n",
    "x2 = cars_imputed.drop(['price'], axis='columns', inplace=False)\n",
    "y2 = cars_imputed['price']\n",
    "\n",
    "prices = pd.DataFrame({\"1. Before\":y2, \"2. After\":np.log(y2)})\n",
    "prices.hist()"
   ]
  },
  {
   "cell_type": "code",
   "execution_count": 73,
   "metadata": {},
   "outputs": [
    {
     "name": "stdout",
     "output_type": "stream",
     "text": [
      "(29940, 303) (12832, 303) (29940,) (12832,)\n"
     ]
    }
   ],
   "source": [
    "y2 = np.log(y2)\n",
    "X_train1, X_test1, y_train1, y_test1 = train_test_split(x2, y2, test_size=0.3, random_state=3)\n",
    "print(X_train1.shape, X_test1.shape, y_train1.shape, y_test1.shape)"
   ]
  },
  {
   "cell_type": "code",
   "execution_count": 74,
   "metadata": {},
   "outputs": [
    {
     "name": "stdout",
     "output_type": "stream",
     "text": [
      "8.068391740519193\n"
     ]
    }
   ],
   "source": [
    "base_pred1 = np.mean(y_test1)\n",
    "print(base_pred1)"
   ]
  },
  {
   "cell_type": "code",
   "execution_count": 75,
   "metadata": {},
   "outputs": [
    {
     "data": {
      "text/plain": [
       "1.1884349112889792"
      ]
     },
     "execution_count": 75,
     "metadata": {},
     "output_type": "execute_result"
    }
   ],
   "source": [
    "base_pred1 = np.repeat(base_pred1, len(y_test1))\n",
    "base_root_mean_square_error1 = np.sqrt(mean_squared_error(y_test1, base_pred1))\n",
    "base_root_mean_square_error1"
   ]
  },
  {
   "cell_type": "code",
   "execution_count": 76,
   "metadata": {},
   "outputs": [
    {
     "data": {
      "text/plain": [
       "0.6483956449231295"
      ]
     },
     "execution_count": 76,
     "metadata": {},
     "output_type": "execute_result"
    }
   ],
   "source": [
    "lgr2 = LinearRegression(fit_intercept=True)\n",
    "model_lin2 = lgr2.fit(X_train1, y_train1)\n",
    "cars_prediction_lin2 = lgr2.predict(X_test1)\n",
    "\n",
    "#computing MSE and RMSE\n",
    "lin_mse2 = mean_squared_error(y_test1, cars_prediction_lin2)\n",
    "lin_mrse2 = np.sqrt(lin_mse2)\n",
    "lin_mrse2"
   ]
  },
  {
   "cell_type": "code",
   "execution_count": 77,
   "metadata": {},
   "outputs": [
    {
     "name": "stdout",
     "output_type": "stream",
     "text": [
      "0.7023339008631185 0.7071658736894363\n"
     ]
    }
   ],
   "source": [
    "#R squared value\n",
    "r2_lin_test2 = model_lin2.score(X_test1, y_test1)\n",
    "r2_lin_train2 = model_lin2.score(X_train1, y_train1)\n",
    "print(r2_lin_test2, r2_lin_train2)"
   ]
  },
  {
   "cell_type": "code",
   "execution_count": 78,
   "metadata": {},
   "outputs": [
    {
     "data": {
      "text/plain": [
       "<matplotlib.axes._subplots.AxesSubplot at 0x26d5071efd0>"
      ]
     },
     "execution_count": 78,
     "metadata": {},
     "output_type": "execute_result"
    },
    {
     "data": {
      "image/png": "[encoded data removed]",
      "text/plain": [
       "<Figure size 432x288 with 1 Axes>"
      ]
     },
     "metadata": {
      "needs_background": "light"
     },
     "output_type": "display_data"
    }
   ],
   "source": [
    "residuals2 = y_test1 - cars_prediction_lin2\n",
    "sns.regplot(x=cars_prediction_lin2, y=residuals2, scatter=True, fit_reg=False)"
   ]
  },
  {
   "cell_type": "code",
   "execution_count": 79,
   "metadata": {},
   "outputs": [
    {
     "data": {
      "text/plain": [
       "count   12832.000\n",
       "mean       -0.024\n",
       "std         0.648\n",
       "min        -6.591\n",
       "25%        -0.348\n",
       "50%         0.043\n",
       "75%         0.374\n",
       "max         4.607\n",
       "Name: price, dtype: float64"
      ]
     },
     "execution_count": 79,
     "metadata": {},
     "output_type": "execute_result"
    }
   ],
   "source": [
    "residuals2.describe()"
   ]
  },
  {
   "cell_type": "code",
   "execution_count": 80,
   "metadata": {},
   "outputs": [
    {
     "data": {
      "text/plain": [
       "0.4360736289370223"
      ]
     },
     "execution_count": 80,
     "metadata": {},
     "output_type": "execute_result"
    }
   ],
   "source": [
    "rf1 = RandomForestRegressor(n_estimators=100, max_features='auto',\n",
    "                           max_depth=100, min_samples_split=10,\n",
    "                           min_samples_leaf=4, random_state=1)\n",
    "model_rf1 = rf1.fit(X_train, y_train)\n",
    "cars_prediction_rf1 = rf1.predict(X_test)\n",
    "\n",
    "#computing MSE and RMSE\n",
    "rf_mse1 = mean_squared_error(y_test, cars_prediction_rf1)\n",
    "rf_mrse1 = np.sqrt(rf_mse1)\n",
    "rf_mrse1"
   ]
  },
  {
   "cell_type": "code",
   "execution_count": 81,
   "metadata": {},
   "outputs": [
    {
     "name": "stdout",
     "output_type": "stream",
     "text": [
      "0.8504018147750623 0.9202494705146291\n"
     ]
    }
   ],
   "source": [
    "#R Squared value\n",
    "r2_rf_test1 = model_rf1.score(X_test, y_test)\n",
    "r2_rf_train1 = model_rf1.score(X_train, y_train)\n",
    "print(r2_rf_test1, r2_rf_train1)"
   ]
  },
  {
   "cell_type": "code",
   "execution_count": 82,
   "metadata": {},
   "outputs": [
    {
     "data": {
      "text/plain": [
       "0.494313994408829"
      ]
     },
     "execution_count": 82,
     "metadata": {},
     "output_type": "execute_result"
    }
   ],
   "source": [
    "\n",
    "rf2 = RandomForestRegressor(n_estimators=100, max_features='auto',\n",
    "                           max_depth=100, min_samples_split=10,\n",
    "                           min_samples_leaf=4, random_state=1)\n",
    "model_rf2 = rf2.fit(X_train1, y_train1)\n",
    "cars_prediction_rf2 = rf2.predict(X_test1)\n",
    "\n",
    "#computing MSE and RMSE\n",
    "rf_mse2 = mean_squared_error(y_test1, cars_prediction_rf2)\n",
    "rf_mrse2 = np.sqrt(rf_mse2)\n",
    "rf_mrse2"
   ]
  },
  {
   "cell_type": "code",
   "execution_count": 83,
   "metadata": {},
   "outputs": [
    {
     "name": "stdout",
     "output_type": "stream",
     "text": [
      "0.8269964521311131 0.9024289431669166\n"
     ]
    }
   ],
   "source": [
    "#R Squared value\n",
    "r2_rf_test2 = model_rf2.score(X_test1, y_test1)\n",
    "r2_rf_train2 = model_rf2.score(X_train1, y_train1)\n",
    "print(r2_rf_test2, r2_rf_train2)"
   ]
  },
  {
   "cell_type": "code",
   "execution_count": null,
   "metadata": {},
   "outputs": [],
   "source": []
  }
 ],
 "metadata": {
  "kernelspec": {
   "display_name": "Python 3",
   "language": "python",
   "name": "python3"
  },
  "language_info": {
   "codemirror_mode": {
    "name": "ipython",
    "version": 3
   },
   "file_extension": ".py",
   "mimetype": "text/x-python",
   "name": "python",
   "nbconvert_exporter": "python",
   "pygments_lexer": "ipython3",
   "version": "3.7.1"
  }
 },
 "nbformat": 4,
 "nbformat_minor": 2
}
